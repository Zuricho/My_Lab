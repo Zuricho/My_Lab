{
 "cells": [
  {
   "cell_type": "code",
   "execution_count": 1,
   "metadata": {},
   "outputs": [],
   "source": [
    "import numpy as np\n",
    "from ChemShift import *"
   ]
  },
  {
   "cell_type": "code",
   "execution_count": null,
   "metadata": {},
   "outputs": [],
   "source": []
  },
  {
   "cell_type": "code",
   "execution_count": null,
   "metadata": {},
   "outputs": [],
   "source": [
    "dataset = np.array(CA_2shift_avg)\n",
    "dataset = np.vstack((dataset,CA_2shift_CMAP_avg))\n",
    "dataset = np.vstack((dataset,CA_2shift_D_avg))\n",
    "dataset = np.vstack((dataset,CA_2shift_D_CMAP_avg))\n",
    "dataset = dataset\n",
    "\n",
    "HEADER = str(res_list)[1:-1]\n",
    "np.savetxt(\"SimulationData2CEF.csv\",dataset,delimiter=\",\",header=HEADER)"
   ]
  }
 ],
 "metadata": {
  "language_info": {
   "codemirror_mode": {
    "name": "ipython",
    "version": 3
   },
   "file_extension": ".py",
   "mimetype": "text/x-python",
   "name": "python",
   "nbconvert_exporter": "python",
   "pygments_lexer": "ipython3",
   "version": "3.6.8-final"
  },
  "orig_nbformat": 2,
  "kernelspec": {
   "name": "python37364bitbaseconda863a9d2b2ce24774beb380f071c4d0fa",
   "display_name": "Python 3.7.3 64-bit ('base': conda)"
  }
 },
 "nbformat": 4,
 "nbformat_minor": 2
}