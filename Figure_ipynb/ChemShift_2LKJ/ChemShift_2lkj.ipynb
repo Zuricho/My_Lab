{
 "nbformat": 4,
 "nbformat_minor": 2,
 "metadata": {
  "language_info": {
   "name": "python",
   "codemirror_mode": {
    "name": "ipython",
    "version": 3
   },
   "version": "3.7.3-final"
  },
  "orig_nbformat": 2,
  "file_extension": ".py",
  "mimetype": "text/x-python",
  "name": "python",
  "npconvert_exporter": "python",
  "pygments_lexer": "ipython3",
  "version": 3,
  "kernelspec": {
   "name": "python37364bitbaseconda863a9d2b2ce24774beb380f071c4d0fa",
   "display_name": "Python 3.7.3 64-bit ('base': conda)"
  }
 },
 "cells": [
  {
   "cell_type": "code",
   "execution_count": 2,
   "metadata": {},
   "outputs": [],
   "source": [
    "# Import and defination\n",
    "\n",
    "import matplotlib.pyplot as plt\n",
    "import numpy as numpy\n",
    "from ChemShift import *"
   ]
  },
  {
   "cell_type": "code",
   "execution_count": 10,
   "metadata": {},
   "outputs": [
    {
     "output_type": "stream",
     "name": "stdout",
     "text": "24\n24\n"
    }
   ],
   "source": [
    "# Test Block and Experiment Data\n",
    "\n",
    "CAShift_sim1 = LoadPred_CA(\"2lkj.md.pdb_pred_sim1.tab\")\n",
    "CAShift2_sim1 = LoadPred_CA_2(\"2lkj.md.pdb_pred_sim1.tab\")\n",
    "CAShift_RC_sim1 = LoadPred_CA_RC(\"2lkj.md.pdb_pred_sim1.tab\")\n",
    "\n",
    "\n",
    "res_list = LoadPred_Res(\"2lkj.md.pdb_pred_sim1.tab\")\n",
    "\n",
    "\n",
    "print(len(CAShift_sim1))\n",
    "print(len(ExpData_Raw))\n",
    "\n",
    "ExpData = [ExpData_Raw[i]-CAShift_RC_sim1[i] if ExpData_Raw[i] != None else None for i in range(len(CAShift_RC_sim1))]\n",
    ""
   ]
  },
  {
   "cell_type": "code",
   "execution_count": null,
   "metadata": {},
   "outputs": [],
   "source": [
    "# Load 4 kinds of chemical shift data, all secondary chemical shift\n",
    "\n",
    "CAShift2_sim1 = LoadPred_CA_2(\"2lkj.md.pdb_pred_sim1.tab\")\n",
    "CAShift2_sim2 = LoadPred_CA_2(\"2lkj.md.pdb_pred_sim2.tab\")\n",
    "CAShift2_sim3 = LoadPred_CA_2(\"2lkj.md.pdb_pred_sim3.tab\")\n",
    "CAShift2_sim4 = LoadPred_CA_2(\"2lkj.md.pdb_pred_sim4.tab\")\n",
    "CAShift2_sim5 = LoadPred_CA_2(\"2lkj.md.pdb_pred_sim5.tab\")\n",
    "\n",
    "AvgShift = [(CAShift2_sim1[i]+CAShift2_sim2[i]+CAShift2_sim3[i]+CAShift2_sim4[i]+CAShift2_sim5[i])/5 for i in range(len(CAShift2_sim1))]\n",
    "\n",
    "CAShift2_CMAP_sim1 = LoadPred_CA_2(\"2lkj.md.pdb_pred_CMAP_sim1.tab\")\n",
    "CAShift2_CMAP_sim2 = LoadPred_CA_2(\"2lkj.md.pdb_pred_CMAP_sim2.tab\")\n",
    "CAShift2_CMAP_sim3 = LoadPred_CA_2(\"2lkj.md.pdb_pred_CMAP_sim3.tab\")\n",
    "CAShift2_CMAP_sim4 = LoadPred_CA_2(\"2lkj.md.pdb_pred_CMAP_sim4.tab\")\n",
    "CAShift2_CMAP_sim5 = LoadPred_CA_2(\"2lkj.md.pdb_pred_CMAP_sim5.tab\")\n",
    "\n",
    "AvgShift_CMAP = [(CAShift2_CMAP_sim1[i]+CAShift2_CMAP_sim2[i]+CAShift2_CMAP_sim3[i]+CAShift2_CMAP_sim4[i]+CAShift2_CMAP_sim5[i])/5 for i in range(len(CAShift2_CMAP_sim1))]\n",
    "\n",
    "CAShift2_D_sim1 = LoadPred_CA_2(\"2lkj.md.pdb_pred_D_sim1.tab\")\n",
    "CAShift2_D_sim2 = LoadPred_CA_2(\"2lkj.md.pdb_pred_D_sim2.tab\")\n",
    "CAShift2_D_sim3 = LoadPred_CA_2(\"2lkj.md.pdb_pred_D_sim3.tab\")\n",
    "CAShift2_D_sim4 = LoadPred_CA_2(\"2lkj.md.pdb_pred_D_sim4.tab\")\n",
    "CAShift2_D_sim5 = LoadPred_CA_2(\"2lkj.md.pdb_pred_D_sim5.tab\")\n",
    "\n",
    "AvgShift_D = [(CAShift2_D_sim1[i]+CAShift2_D_sim2[i]+CAShift2_D_sim3[i]+CAShift2_D_sim4[i]+CAShift2_D_sim5[i])/5 for i in range(len(CAShift2_D_sim1))]\n",
    "\n",
    "CAShift2_D_CMAP_sim1 = LoadPred_CA_2(\"2lkj.md.pdb_pred_D_CMAP_sim1.tab\")\n",
    "CAShift2_D_CMAP_sim2 = LoadPred_CA_2(\"2lkj.md.pdb_pred_D_CMAP_sim2.tab\")\n",
    "CAShift2_D_CMAP_sim3 = LoadPred_CA_2(\"2lkj.md.pdb_pred_D_CMAP_sim3.tab\")\n",
    "CAShift2_D_CMAP_sim4 = LoadPred_CA_2(\"2lkj.md.pdb_pred_D_CMAP_sim4.tab\")\n",
    "CAShift2_D_CMAP_sim5 = LoadPred_CA_2(\"2lkj.md.pdb_pred_D_CMAP_sim5.tab\")\n",
    "\n",
    "AvgShift_D_CMAP = [(CAShift2_D_CMAP_sim1[i]+CAShift2_D_CMAP_sim2[i]+CAShift2_D_CMAP_sim3[i]+CAShift2_D_CMAP_sim4[i]+CAShift2_D_CMAP_sim5[i])/5 for i in range(len(CAShift2_D_CMAP_sim1))]\n"
   ]
  },
  {
   "cell_type": "code",
   "execution_count": null,
   "metadata": {},
   "outputs": [],
   "source": [
    "# Plotting!\n",
    "\n",
    "plt.subplots(figsize=(10,4))\n",
    "\n",
    "plt.plot(AvgShift,'.-',label='ffptm TIP4Pew',color=\"tab:blue\")\n",
    "plt.plot(AvgShift_CMAP,'.-',label='ff03CMAP TIP4Pew',color=\"tab:orange\")\n",
    "plt.plot(AvgShift_D,'.-',label='ffptm TIP4PD',color=\"tab:green\")\n",
    "plt.plot(AvgShift_D_CMAP,'.-',label='ff03CMAP TIP4PD',color=\"tab:red\")\n",
    "\n",
    "plt.plot(ExpData,'.-',label='Experiment',color=\"black\")\n",
    "\n",
    "\n",
    "\n",
    "plt.title('Cα Chemical shift of 2LKJ',loc='left')\n",
    "\n",
    "plt.xlim(0, len(AvgShift)-1)\n",
    "plt.xticks(np.arange(0,len(res_list)),res_list,rotation='60')\n",
    "\n",
    "# Tag modified residues\n",
    "plt.axvline(x=31, ymin=0, ymax=1,color=\"grey\",linestyle=\"--\")\n",
    "plt.axvline(x=43, ymin=0, ymax=1,color=\"grey\",linestyle=\"--\")\n",
    "\n",
    "plt.legend()\n",
    "plt.savefig(\"ChemShift_2lkj.png\",dpi=100)\n",
    "plt.show()"
   ]
  }
 ]
}