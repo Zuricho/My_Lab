{
 "nbformat": 4,
 "nbformat_minor": 2,
 "metadata": {
  "language_info": {
   "name": "python",
   "codemirror_mode": {
    "name": "ipython",
    "version": 3
   },
   "version": "3.7.3-final"
  },
  "orig_nbformat": 2,
  "file_extension": ".py",
  "mimetype": "text/x-python",
  "name": "python",
  "npconvert_exporter": "python",
  "pygments_lexer": "ipython3",
  "version": 3,
  "kernelspec": {
   "name": "python37364bitbaseconda863a9d2b2ce24774beb380f071c4d0fa",
   "display_name": "Python 3.7.3 64-bit ('base': conda)"
  }
 },
 "cells": [
  {
   "cell_type": "code",
   "execution_count": 9,
   "metadata": {},
   "outputs": [],
   "source": [
    "import numpy as np\n",
    "import matplotlib.pyplot as plt\n",
    "\n",
    "\n",
    "def loadpred(file_name):\n",
    "    f = open(file_name)\n",
    "    r = f.readlines()\n",
    "    content = []\n",
    "    for i in range(27,len(r)):\n",
    "        content.append(r[i].split())\n",
    "    return content\n",
    "\n"
   ]
  },
  {
   "cell_type": "code",
   "execution_count": 16,
   "metadata": {},
   "outputs": [],
   "source": [
    "pred = loadpred(\"2cef.md.pdb_pred.tab\")\n",
    "\n",
    "C_list = []\n",
    "CA_list = []\n",
    "CB_list = []\n",
    "HA_list = []\n",
    "HN_list = []\n",
    "N_list = []\n",
    "for i in range(len(pred)):\n",
    "    if pred[i][2] == 'C':\n",
    "        C_list.append(pred[i])\n",
    "    if pred[i][2] == 'CA':\n",
    "        CA_list.append(pred[i])\n",
    "    if pred[i][2] == 'CB':\n",
    "        CB_list.append(pred[i])\n",
    "    if pred[i][2] == 'HA' or 'HA2':\n",
    "        HA_list.append(pred[i])\n",
    "    if pred[i][2] == 'HN':\n",
    "        HN_list.append(pred[i])\n",
    "    if pred[i][2] == 'N':\n",
    "        N_list.append(pred[i])\n",
    "\n"
   ]
  },
  {
   "cell_type": "code",
   "execution_count": null,
   "metadata": {},
   "outputs": [],
   "source": [
    "print"
   ]
  }
 ]
}